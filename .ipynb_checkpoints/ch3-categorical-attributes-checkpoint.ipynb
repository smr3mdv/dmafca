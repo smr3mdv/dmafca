{
 "cells": [
  {
   "cell_type": "markdown",
   "metadata": {},
   "source": [
    "Data set \"Iris flower data set\" introduced by British statistician and biologist Ronald Fisher in his 1936 paper \"The use of multiple measurements in taxonomic problems\"."
   ]
  },
  {
   "cell_type": "code",
   "execution_count": 1,
   "metadata": {
    "collapsed": true
   },
   "outputs": [],
   "source": [
    "import pandas as pd\n",
    "import numpy as np\n",
    "from scipy.stats import chi2_contingency\n",
    "from scipy.sparse import dia_matrix\n",
    "from tabulate import tabulate"
   ]
  },
  {
   "cell_type": "markdown",
   "metadata": {},
   "source": [
    "## Load data and name columns"
   ]
  },
  {
   "cell_type": "code",
   "execution_count": 2,
   "metadata": {
    "collapsed": true
   },
   "outputs": [],
   "source": [
    "data = pd.read_csv('iris.txt', header = None)\n",
    "data.columns = ['Sepal length', 'Sepal width', 'Petal length', 'Petal width','Class']"
   ]
  },
  {
   "cell_type": "markdown",
   "metadata": {},
   "source": [
    "## Create Bernoulli categorical variable from length quantitative variable by defining an instance of flower as \"long\" if its sepal length is more than or equal to 7, \"short\" otherwise"
   ]
  },
  {
   "cell_type": "code",
   "execution_count": 3,
   "metadata": {
    "collapsed": true
   },
   "outputs": [],
   "source": [
    "data['Bernoulli'] = np.where(data['Sepal length'] >= 7, 'long', 'short')"
   ]
  },
  {
   "cell_type": "markdown",
   "metadata": {},
   "source": [
    "## Check the data"
   ]
  },
  {
   "cell_type": "code",
   "execution_count": 4,
   "metadata": {},
   "outputs": [
    {
     "name": "stdout",
     "output_type": "stream",
     "text": [
      "   Sepal length  Sepal width  Petal length  Petal width            Class  \\\n",
      "0           5.9          3.0           4.2          1.5  Iris-versicolor   \n",
      "1           6.9          3.1           4.9          1.5  Iris-versicolor   \n",
      "2           6.6          2.9           4.6          1.3  Iris-versicolor   \n",
      "3           4.6          3.2           1.4          0.2      Iris-setosa   \n",
      "4           6.0          2.2           4.0          1.0  Iris-versicolor   \n",
      "\n",
      "  Bernoulli  \n",
      "0     short  \n",
      "1     short  \n",
      "2     short  \n",
      "3     short  \n",
      "4     short  \n"
     ]
    }
   ],
   "source": [
    "print(data.head())"
   ]
  },
  {
   "cell_type": "markdown",
   "metadata": {},
   "source": [
    "## Sample mean and variance"
   ]
  },
  {
   "cell_type": "code",
   "execution_count": 6,
   "metadata": {},
   "outputs": [
    {
     "name": "stdout",
     "output_type": "stream",
     "text": [
      "╒═══════════════════════════════════════════╤════════╕\n",
      "│ Sample mean of Bernoulli length variable: │  0.087 │\n",
      "├───────────────────────────────────────────┼────────┤\n",
      "│ Sample variance:                          │  0.079 │\n",
      "├───────────────────────────────────────────┼────────┤\n",
      "│ Expected number of occurrences of long:   │ 13     │\n",
      "├───────────────────────────────────────────┼────────┤\n",
      "│ Variance in the number of occurrences:    │ 11.9   │\n",
      "╘═══════════════════════════════════════════╧════════╛\n"
     ]
    }
   ],
   "source": [
    "mean = data.Bernoulli.value_counts().as_matrix()[1]/len(data)\n",
    "var = mean * (1 - mean)\n",
    "exp = data.shape[0] * mean\n",
    "varoc = data.shape[0] * var\n",
    "table = [['Sample mean of Bernoulli length variable:', round(mean, 3)], ['Sample variance:', round(var, 3)], ['Expected number of occurrences of long:', round(exp, 1)], ['Variance in the number of occurrences:', round(varoc, 1)]]\n",
    "print(tabulate(table, tablefmt = 'fancy_grid'))"
   ]
  },
  {
   "cell_type": "markdown",
   "metadata": {},
   "source": [
    "## Load discretized 3-way iris flower data and name the columns for bivariate analysis"
   ]
  },
  {
   "cell_type": "code",
   "execution_count": 7,
   "metadata": {},
   "outputs": [
    {
     "name": "stdout",
     "output_type": "stream",
     "text": [
      "  Length Width  Class\n",
      "0    a12   a22      1\n",
      "1    a13   a22      1\n",
      "2    a13   a22      1\n",
      "3    a11   a22      2\n",
      "4    a12   a21      1\n"
     ]
    }
   ],
   "source": [
    "data = pd.read_csv('categorial-3way.dat', sep = \" \", header = None)\n",
    "data.columns = ['Length', 'Width', 'Class']\n",
    "print(data.head())"
   ]
  },
  {
   "cell_type": "markdown",
   "metadata": {},
   "source": [
    "## Declare multivariate Bernoulli categorical variables"
   ]
  },
  {
   "cell_type": "code",
   "execution_count": 9,
   "metadata": {},
   "outputs": [],
   "source": [
    "length = pd.Categorical(data['Length'], categories = ['a11','a12','a13','a14'])\n",
    "#print('\"Length\" categorical variable:\\n', length)\n",
    "width = pd.Categorical(data['Width'], categories = ['a21','a22','a23'])\n",
    "#print('\"Width\" categorical variable:\\n', width)\n",
    "clss = pd.Categorical(data['Class'], categories = [1,2,3])\n",
    "#print('\"Class\" categorical variable:\\n', clss)"
   ]
  },
  {
   "cell_type": "markdown",
   "metadata": {},
   "source": [
    "## Sample mean of length variable"
   ]
  },
  {
   "cell_type": "code",
   "execution_count": 11,
   "metadata": {},
   "outputs": [
    {
     "name": "stdout",
     "output_type": "stream",
     "text": [
      "╒═════════╤═══════╕\n",
      "│ p(a11): │ 0.3   │\n",
      "├─────────┼───────┤\n",
      "│ p(a12): │ 0.333 │\n",
      "├─────────┼───────┤\n",
      "│ p(a13): │ 0.287 │\n",
      "├─────────┼───────┤\n",
      "│ p(a14): │ 0.08  │\n",
      "╘═════════╧═══════╛\n"
     ]
    }
   ],
   "source": [
    "mat = np.around(pd.Series(length).value_counts(sort = 0).as_matrix()[:,None]/len(length), decimals = 3)\n",
    "table = [['p(a11):', mat[0,0]], ['p(a12):', mat[1,0]], ['p(a13):', mat[2,0]], ['p(a14):', mat[3,0]]]\n",
    "print(tabulate(table, tablefmt='fancy_grid'))"
   ]
  },
  {
   "cell_type": "markdown",
   "metadata": {},
   "source": [
    "## Diagonal matrix used to calculate sample variance for length variable"
   ]
  },
  {
   "cell_type": "code",
   "execution_count": 17,
   "metadata": {},
   "outputs": [
    {
     "name": "stdout",
     "output_type": "stream",
     "text": [
      "[[0.3   0.    0.    0.   ]\n",
      " [0.    0.333 0.    0.   ]\n",
      " [0.    0.    0.287 0.   ]\n",
      " [0.    0.    0.    0.08 ]]\n"
     ]
    }
   ],
   "source": [
    "P1 = dia_matrix((mat.ravel(), 0), shape = (mat.shape[0], mat.shape[0])).toarray()\n",
    "print(P1)"
   ]
  },
  {
   "cell_type": "markdown",
   "metadata": {},
   "source": [
    "## Sample covariance matrix for length variable"
   ]
  },
  {
   "cell_type": "code",
   "execution_count": 19,
   "metadata": {},
   "outputs": [
    {
     "name": "stdout",
     "output_type": "stream",
     "text": [
      "[[ 0.21  -0.1   -0.086 -0.024]\n",
      " [-0.1    0.222 -0.096 -0.027]\n",
      " [-0.086 -0.096  0.205 -0.023]\n",
      " [-0.024 -0.027 -0.023  0.074]]\n"
     ]
    }
   ],
   "source": [
    "sigma1 = np.around(P - np.matmul(mat, mat.T), decimals = 3)\n",
    "print(sigma1)"
   ]
  },
  {
   "cell_type": "markdown",
   "metadata": {},
   "source": [
    "## Sample mean of width variable"
   ]
  },
  {
   "cell_type": "code",
   "execution_count": 15,
   "metadata": {},
   "outputs": [
    {
     "name": "stdout",
     "output_type": "stream",
     "text": [
      "╒═════════╤═══════╕\n",
      "│ p(a21): │ 0.313 │\n",
      "├─────────┼───────┤\n",
      "│ p(a22): │ 0.587 │\n",
      "├─────────┼───────┤\n",
      "│ p(a23): │ 0.1   │\n",
      "╘═════════╧═══════╛\n"
     ]
    }
   ],
   "source": [
    "mat2 = np.around(pd.Series(width).value_counts(sort = 0).as_matrix()[:,None]/len(width), decimals = 3)\n",
    "table = [['p(a21):', mat2[0,0]], ['p(a22):', mat2[1,0]], ['p(a23):', mat2[2,0]]]\n",
    "print(tabulate(table, tablefmt='fancy_grid'))"
   ]
  },
  {
   "cell_type": "markdown",
   "metadata": {},
   "source": [
    "## Diagonal matrix used to calculate sample variance for width variable"
   ]
  },
  {
   "cell_type": "code",
   "execution_count": 16,
   "metadata": {},
   "outputs": [
    {
     "name": "stdout",
     "output_type": "stream",
     "text": [
      "[[0.313 0.    0.   ]\n",
      " [0.    0.587 0.   ]\n",
      " [0.    0.    0.1  ]]\n"
     ]
    }
   ],
   "source": [
    "P2 = dia_matrix((mat2.ravel(), 0), shape = (mat2.shape[0], mat2.shape[0])).toarray()\n",
    "print(P2)"
   ]
  },
  {
   "cell_type": "markdown",
   "metadata": {},
   "source": [
    "## Sample covariance matrix for width variable"
   ]
  },
  {
   "cell_type": "code",
   "execution_count": 18,
   "metadata": {},
   "outputs": [
    {
     "name": "stdout",
     "output_type": "stream",
     "text": [
      "[[ 0.215 -0.184 -0.031]\n",
      " [-0.184  0.242 -0.059]\n",
      " [-0.031 -0.059  0.09 ]]\n"
     ]
    }
   ],
   "source": [
    "sigma2 = np.around(P2 - np.matmul(mat2, mat2.T), decimals = 3)\n",
    "print(sigma2)"
   ]
  },
  {
   "cell_type": "markdown",
   "metadata": {},
   "source": [
    "## Creating 2-way contingency table"
   ]
  },
  {
   "cell_type": "code",
   "execution_count": 20,
   "metadata": {},
   "outputs": [
    {
     "name": "stdout",
     "output_type": "stream",
     "text": [
      "Width   a21  a22  a23  All\n",
      "Length                    \n",
      "a11       7   33    5   45\n",
      "a12      24   18    8   50\n",
      "a13      13   30    0   43\n",
      "a14       3    7    2   12\n",
      "All      47   88   15  150\n"
     ]
    }
   ],
   "source": [
    "ct_2w = pd.crosstab(length, width, margins = True, rownames = ['Length'], colnames = ['Width'])\n",
    "print(ct_2w)"
   ]
  },
  {
   "cell_type": "markdown",
   "metadata": {},
   "source": [
    "## Empirical joint PMF for length and width variables"
   ]
  },
  {
   "cell_type": "code",
   "execution_count": 22,
   "metadata": {},
   "outputs": [
    {
     "name": "stdout",
     "output_type": "stream",
     "text": [
      "[[0.047 0.22  0.033]\n",
      " [0.16  0.12  0.053]\n",
      " [0.087 0.2   0.   ]\n",
      " [0.02  0.047 0.013]]\n"
     ]
    }
   ],
   "source": [
    "P12 = np.around(ct_2w.as_matrix()[:4,:3]/len(data), decimals = 3)\n",
    "print(P12)"
   ]
  },
  {
   "cell_type": "markdown",
   "metadata": {},
   "source": [
    "## Across-attribute sample covariance matrix"
   ]
  },
  {
   "cell_type": "code",
   "execution_count": 23,
   "metadata": {},
   "outputs": [
    {
     "name": "stdout",
     "output_type": "stream",
     "text": [
      "[[-0.047  0.044  0.003]\n",
      " [ 0.056 -0.075  0.02 ]\n",
      " [-0.003  0.032 -0.029]\n",
      " [-0.005  0.     0.005]]\n"
     ]
    }
   ],
   "source": [
    "sigma12 = np.around(P12 - mat*mat2.T, decimals = 3)\n",
    "print(sigma12)"
   ]
  },
  {
   "cell_type": "markdown",
   "metadata": {},
   "source": [
    "## Covariance matrix for joint distribution of length and width variables"
   ]
  },
  {
   "cell_type": "code",
   "execution_count": 24,
   "metadata": {},
   "outputs": [
    {
     "name": "stdout",
     "output_type": "stream",
     "text": [
      "[[ 0.21  -0.1   -0.086 -0.024 -0.047  0.044  0.003]\n",
      " [-0.1    0.222 -0.096 -0.027  0.056 -0.075  0.02 ]\n",
      " [-0.086 -0.096  0.205 -0.023 -0.003  0.032 -0.029]\n",
      " [-0.024 -0.027 -0.023  0.074 -0.005  0.     0.005]\n",
      " [-0.047  0.056 -0.003 -0.005  0.215 -0.184 -0.031]\n",
      " [ 0.044 -0.075  0.032  0.    -0.184  0.242 -0.059]\n",
      " [ 0.003  0.02  -0.029  0.005 -0.031 -0.059  0.09 ]]\n"
     ]
    }
   ],
   "source": [
    "sigma_joint = np.around(np.vstack((np.concatenate((sigma, sigma12), axis = 1), np.concatenate((sigma12.T, sigma2), axis = 1))), decimals = 3)\n",
    "print(sigma_joint)"
   ]
  },
  {
   "cell_type": "markdown",
   "metadata": {},
   "source": [
    "## Chi-square test statistic, p-value of the test, degrees of freedom and expected frequencies, based on the marginal sums of the table for 2-way contingency table"
   ]
  },
  {
   "cell_type": "code",
   "execution_count": 25,
   "metadata": {},
   "outputs": [
    {
     "name": "stdout",
     "output_type": "stream",
     "text": [
      "Expected frequencies of length and width variables:\n",
      " [[14.1  26.4   4.5 ]\n",
      " [15.67 29.33  5.  ]\n",
      " [13.47 25.23  4.3 ]\n",
      " [ 3.76  7.04  1.2 ]]\n",
      "╒════════════════════╤═════════╕\n",
      "│ Chi-square test:   │ 21.8    │\n",
      "├────────────────────┼─────────┤\n",
      "│ p-value:           │  0.0013 │\n",
      "├────────────────────┼─────────┤\n",
      "│ Degree of freedom: │  6      │\n",
      "╘════════════════════╧═════════╛\n"
     ]
    }
   ],
   "source": [
    "a1 = ct_2w.as_matrix().shape[0] - 1\n",
    "a2 = ct_2w.as_matrix().shape[1] - 1\n",
    "chi2_2w, p_2w, dof_2w, ex_2w = chi2_contingency(ct_2w.as_matrix()[:a1,:a2]) #omitting 'All' column\n",
    "table = [['Chi-square test:', round(chi2_2w, 2)], ['p-value:', round(p_2w, 4)], ['Degree of freedom:', dof_2w]]\n",
    "print('Expected frequencies of length and width variables:\\n', np.around(ex_2w, decimals = 2))\n",
    "print(tabulate(table, tablefmt = 'fancy_grid'))"
   ]
  },
  {
   "cell_type": "markdown",
   "metadata": {},
   "source": [
    "## Creating 3-way contingency table"
   ]
  },
  {
   "cell_type": "code",
   "execution_count": 26,
   "metadata": {},
   "outputs": [
    {
     "name": "stdout",
     "output_type": "stream",
     "text": [
      "Width         a21  a22  a23  All\n",
      "Class Length                    \n",
      "1     a11       5    0    0    5\n",
      "      a12      17   12    0   29\n",
      "      a13       5   11    0   16\n",
      "      a14       0    0    0    0\n",
      "2     a11       1   33    5   39\n",
      "      a12       0    3    8   11\n",
      "      a13       0    0    0    0\n",
      "      a14       0    0    0    0\n",
      "3     a11       1    0    0    1\n",
      "      a12       7    3    0   10\n",
      "      a13       8   19    0   27\n",
      "      a14       3    7    2   12\n",
      "All            47   88   15  150\n"
     ]
    }
   ],
   "source": [
    "ct_3w = pd.crosstab((clss, length), width, margins = True, rownames = ['Class', 'Length'], colnames = ['Width'])\n",
    "print(ct_3w)"
   ]
  },
  {
   "cell_type": "markdown",
   "metadata": {},
   "source": [
    "## Chi-square test statistic, p-value of the test, degrees of freedom and expected frequencies, based on the marginal sums of the table for 3-way contingency table"
   ]
  },
  {
   "cell_type": "code",
   "execution_count": 27,
   "metadata": {},
   "outputs": [
    {
     "name": "stdout",
     "output_type": "stream",
     "text": [
      "Expected frequencies of length, width and class variables:\n",
      " [[[4.7  8.8  1.5 ]\n",
      "  [5.22 9.78 1.67]\n",
      "  [4.49 8.41 1.43]\n",
      "  [1.25 2.35 0.4 ]]\n",
      "\n",
      " [[4.7  8.8  1.5 ]\n",
      "  [5.22 9.78 1.67]\n",
      "  [4.49 8.41 1.43]\n",
      "  [1.25 2.35 0.4 ]]\n",
      "\n",
      " [[4.7  8.8  1.5 ]\n",
      "  [5.22 9.78 1.67]\n",
      "  [4.49 8.41 1.43]\n",
      "  [1.25 2.35 0.4 ]]]\n",
      "╒════════════════════╤════════╕\n",
      "│ Chi-square test:   │ 231.05 │\n",
      "├────────────────────┼────────┤\n",
      "│ p-value:           │   0    │\n",
      "├────────────────────┼────────┤\n",
      "│ Degree of freedom: │  28    │\n",
      "╘════════════════════╧════════╛\n"
     ]
    }
   ],
   "source": [
    "b1 = ct_3w.as_matrix().shape[0] - 1\n",
    "b2 = ct_3w.as_matrix().shape[1] - 1\n",
    "chi2_3w, p_3w, dof_3w, ex_3w = chi2_contingency(ct_3w.as_matrix()[:b1,:b2].reshape((3, 4, 3)))\n",
    "table = [['Chi-square test:', round(chi2_3w, 2)], ['p-value:', round(p_3w, 4)], ['Degree of freedom:', dof_3w]]\n",
    "print('Expected frequencies of length, width and class variables:\\n', np.around(ex_3w, decimals = 2))\n",
    "print(tabulate(table, tablefmt = 'fancy_grid'))"
   ]
  }
 ],
 "metadata": {
  "kernelspec": {
   "display_name": "Python 3",
   "language": "python",
   "name": "python3"
  },
  "language_info": {
   "codemirror_mode": {
    "name": "ipython",
    "version": 3
   },
   "file_extension": ".py",
   "mimetype": "text/x-python",
   "name": "python",
   "nbconvert_exporter": "python",
   "pygments_lexer": "ipython3",
   "version": "3.6.3"
  }
 },
 "nbformat": 4,
 "nbformat_minor": 2
}
